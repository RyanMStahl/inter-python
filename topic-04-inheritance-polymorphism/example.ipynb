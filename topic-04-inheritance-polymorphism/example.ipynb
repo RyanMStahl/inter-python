{
 "cells": [
  {
   "cell_type": "code",
   "execution_count": null,
   "id": "5c619f28",
   "metadata": {},
   "outputs": [],
   "source": [
    "things = [0.3,False,\"Hello\",[1,2,3],1,{\"a\":4}]"
   ]
  },
  {
   "cell_type": "code",
   "execution_count": 18,
   "id": "e2bc63b4",
   "metadata": {},
   "outputs": [
    {
     "name": "stdout",
     "output_type": "stream",
     "text": [
      "hi\n",
      "hello, there!\n",
      "bye\n"
     ]
    }
   ],
   "source": [
    "class Parent:\n",
    "    def say_hi(self):\n",
    "        print(\"hi\")\n",
    "\n",
    "class Child(Parent):\n",
    "    def say_hi(self):\n",
    "        print(\"hello, there!\")\n",
    "    def say_bye(self):\n",
    "        print(\"bye\")\n",
    "\n",
    "# p = Parent()\n",
    "# p.say_hi()\n",
    "# c = Child()\n",
    "# c.say_hi()\n",
    "# c.say_bye()\n",
    "people = [Parent(), Child()]\n",
    "for person in people:\n",
    "    person.say_hi()\n",
    "    # if type(person) == Child:\n",
    "    #     person.say_bye()\n",
    "    try:\n",
    "        person.say_bye()\n",
    "    except:\n",
    "        pass\n",
    "    "
   ]
  },
  {
   "cell_type": "code",
   "execution_count": 19,
   "id": "11b278df",
   "metadata": {},
   "outputs": [
    {
     "name": "stdout",
     "output_type": "stream",
     "text": [
      "My name is Alice, I am 30, and I work as a Software Engineer.\n"
     ]
    }
   ],
   "source": [
    "class Person:\n",
    "    def __init__(self, name, age):\n",
    "        self.name = name\n",
    "        self.age = age\n",
    "\n",
    "    def introduce(self):\n",
    "        return f\"My name is {self.name} and I am {self.age} years old.\"\n",
    "\n",
    "class Employee(Person):\n",
    "    def __init__(self, name, age, job_title):\n",
    "        super().__init__(name, age)\n",
    "        self.job_title = job_title\n",
    "\n",
    "    def introduce(self):\n",
    "        return f\"My name is {self.name}, I am {self.age}, and I work as a {self.job_title}.\"\n",
    "\n",
    "# Test\n",
    "e = Employee(\"Alice\", 30, \"Software Engineer\")\n",
    "print(e.introduce())"
   ]
  },
  {
   "cell_type": "code",
   "execution_count": 21,
   "id": "f4fd8ccd",
   "metadata": {},
   "outputs": [
    {
     "name": "stdout",
     "output_type": "stream",
     "text": [
      "My name is Alice and I am 30 years old, and I work as a Software Engineer.\n"
     ]
    }
   ],
   "source": [
    "class Person:\n",
    "    def __init__(self, name, age):\n",
    "        self.name = name\n",
    "        self.age = age\n",
    "\n",
    "    def introduce(self):\n",
    "        return f\"My name is {self.name} and I am {self.age} years old.\"\n",
    "\n",
    "class Employee(Person):\n",
    "    def __init__(self, name, age, job_title):\n",
    "        super().__init__(name, age)\n",
    "        self.job_title = job_title\n",
    "\n",
    "    def introduce(self):\n",
    "        intro = super().introduce()\n",
    "        intro = intro[:-1] + f\", and I work as a {self.job_title}.\"\n",
    "        return intro\n",
    "\n",
    "# Test\n",
    "e = Employee(\"Alice\", 30, \"Software Engineer\")\n",
    "print(e.introduce())"
   ]
  },
  {
   "cell_type": "code",
   "execution_count": null,
   "id": "7b6f59a7",
   "metadata": {},
   "outputs": [
    {
     "name": "stdout",
     "output_type": "stream",
     "text": [
      "My name is Alice, I work as a Software Engineer, and I live in New York.\n"
     ]
    }
   ],
   "source": [
    "class Address:\n",
    "    def __init__(self, street, city):\n",
    "        self.street = street\n",
    "        self.city = city\n",
    "\n",
    "class Employee(Person):\n",
    "    def __init__(self, name, age, job_title, street, city):\n",
    "        super().__init__(name, age)\n",
    "        self.job_title = job_title\n",
    "        self.address = Address(street, city)\n",
    "\n",
    "\n",
    "    def introduce(self):\n",
    "        return f\"My name is {self.name}, I work as a {self.job_title}, and I live in {self.address.city}.\"\n",
    "\n",
    "# Test\n",
    "e = Employee(\"Alice\", 30, \"Software Engineer\", \"123 Main St\", \"New York\")\n",
    "print(e.introduce())"
   ]
  },
  {
   "cell_type": "code",
   "execution_count": null,
   "id": "7549e21d",
   "metadata": {},
   "outputs": [],
   "source": [
    "class A: pass\n",
    "class B(A): pass\n",
    "\n",
    "x = B()\n",
    "type(x) is A        # False\n",
    "isinstance(x, A)    # True"
   ]
  }
 ],
 "metadata": {
  "kernelspec": {
   "display_name": "Python 3",
   "language": "python",
   "name": "python3"
  },
  "language_info": {
   "codemirror_mode": {
    "name": "ipython",
    "version": 3
   },
   "file_extension": ".py",
   "mimetype": "text/x-python",
   "name": "python",
   "nbconvert_exporter": "python",
   "pygments_lexer": "ipython3",
   "version": "3.12.1"
  }
 },
 "nbformat": 4,
 "nbformat_minor": 5
}
