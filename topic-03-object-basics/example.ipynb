{
 "cells": [
  {
   "cell_type": "code",
   "execution_count": 4,
   "id": "93a346a1",
   "metadata": {},
   "outputs": [
    {
     "name": "stdout",
     "output_type": "stream",
     "text": [
      "Toyota Camry 2022\n"
     ]
    }
   ],
   "source": [
    "class Car:\n",
    "    def __init__(self, brand, model, year):\n",
    "        self.brand = brand\n",
    "        self.model = model\n",
    "        self.year = year\n",
    "\n",
    "# Create an instance\n",
    "my_car = Car(\"Toyota\", \"Camry\", 2022)\n",
    "print(my_car.brand, my_car.model, my_car.year)"
   ]
  },
  {
   "cell_type": "code",
   "execution_count": 7,
   "id": "ba41111a",
   "metadata": {},
   "outputs": [
    {
     "name": "stdout",
     "output_type": "stream",
     "text": [
      "2023 - Toyota - Camry\n",
      "False\n"
     ]
    }
   ],
   "source": [
    "class Car:\n",
    "    def __init__(self, brand, model, year):\n",
    "        self.brand = brand\n",
    "        self.model = model\n",
    "        self.year = year\n",
    "\n",
    "    def describe(self):\n",
    "        self.year = self.year + 1\n",
    "        return f\"{self.year} - {self.brand} - {self.model}\"\n",
    "\n",
    "    def isa(self, brand):\n",
    "        return self.brand == brand\n",
    "\n",
    "my_car = Car(\"Toyota\", \"Camry\", 2022)\n",
    "print(my_car.describe())\n",
    "print(my_car.isa(\"Ford\"))"
   ]
  },
  {
   "cell_type": "code",
   "execution_count": 11,
   "id": "398816a6",
   "metadata": {},
   "outputs": [
    {
     "name": "stdout",
     "output_type": "stream",
     "text": [
      "Toyota\n"
     ]
    },
    {
     "data": {
      "text/plain": [
       "'2023 - Mercedes - Camry'"
      ]
     },
     "execution_count": 11,
     "metadata": {},
     "output_type": "execute_result"
    }
   ],
   "source": [
    "class Car:\n",
    "    def __init__(self, brand, model, year):\n",
    "        self._brand = brand\n",
    "        self.model = model\n",
    "        self.year = year\n",
    "\n",
    "    def describe(self):\n",
    "        self.year = self.year + 1\n",
    "        return f\"{self.year} - {self._brand} - {self.model}\"\n",
    "\n",
    "    def isa(self, brand):\n",
    "        return self.brand == brand\n",
    "\n",
    "my_car = Car(\"Toyota\", \"Camry\", 2022)\n",
    "print(my_car._brand)\n",
    "my_car._brand = \"Mercedes\"\n",
    "my_car.describe()"
   ]
  },
  {
   "cell_type": "code",
   "execution_count": null,
   "id": "b461f9e3",
   "metadata": {},
   "outputs": [
    {
     "name": "stdout",
     "output_type": "stream",
     "text": [
      "2023 - Toyota - Camry\n",
      "False\n"
     ]
    },
    {
     "data": {
      "text/plain": [
       "('Mercedes', 'Honda')"
      ]
     },
     "execution_count": 20,
     "metadata": {},
     "output_type": "execute_result"
    }
   ],
   "source": [
    "class Car:\n",
    "    def __init__(self, brand, model, year):\n",
    "        self.__brand = brand\n",
    "        self.model = model\n",
    "        self.year = year\n",
    "\n",
    "    def describe(self):\n",
    "        self.year = self.year + 1\n",
    "        return f\"{self.year} - {self.__brand} - {self.model}\"\n",
    "\n",
    "    def isa(self, brand):\n",
    "        return self.__brand == brand\n",
    "\n",
    "    def get_brand(self):\n",
    "        return self.__brand\n",
    "    \n",
    "    def set_brand(self, brand):\n",
    "        if self.year > 2000:\n",
    "            self.__brand = brand\n",
    "\n",
    "my_car = Car(\"Toyota\", \"Camry\", 2022)\n",
    "print(my_car.describe())\n",
    "print(my_car.isa(\"Ford\"))\n",
    "\n",
    "my_car.__brand = \"Mercedes\"\n",
    "my_car.describe()\n",
    "my_car.__brand, my_car.get_brand()\n",
    "my_car.set_brand(\"Honda\")\n",
    "my_car.__brand, my_car.get_brand()\n"
   ]
  },
  {
   "cell_type": "code",
   "execution_count": null,
   "id": "4816cb13",
   "metadata": {},
   "outputs": [],
   "source": [
    "class BankAccount:\n",
    "    def __init__(self, balance):\n",
    "        self.__balance = balance\n",
    "\n",
    "    def get_balance(self):\n",
    "        return self.__balance\n",
    "\n",
    "    def deposit(self, amount):\n",
    "        if amount > 0:\n",
    "            self.__balance += amount\n",
    "\n",
    "    def withdraw(self, amount):\n",
    "        if amount > 0 and amount <= self.__balance:\n",
    "            self.__balance -= amount\n"
   ]
  }
 ],
 "metadata": {
  "kernelspec": {
   "display_name": "Python 3",
   "language": "python",
   "name": "python3"
  },
  "language_info": {
   "codemirror_mode": {
    "name": "ipython",
    "version": 3
   },
   "file_extension": ".py",
   "mimetype": "text/x-python",
   "name": "python",
   "nbconvert_exporter": "python",
   "pygments_lexer": "ipython3",
   "version": "3.12.1"
  }
 },
 "nbformat": 4,
 "nbformat_minor": 5
}
