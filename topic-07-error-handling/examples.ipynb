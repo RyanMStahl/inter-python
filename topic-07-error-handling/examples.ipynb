{
 "cells": [
  {
   "cell_type": "code",
   "execution_count": null,
   "id": "806afd91",
   "metadata": {},
   "outputs": [
    {
     "name": "stdout",
     "output_type": "stream",
     "text": [
      "[IndexError('list index out of range')]\n"
     ]
    },
    {
     "data": {
      "text/plain": [
       "45"
      ]
     },
     "execution_count": 12,
     "metadata": {},
     "output_type": "execute_result"
    }
   ],
   "source": [
    "some_other_value = 45\n",
    "some_value = 2\n",
    "\n",
    "# if some_value != 0:\n",
    "#     some_other_value = 34 / some_value\n",
    "# else:\n",
    "#     pass\n",
    "\n",
    "x = [3,4,5]\n",
    "\n",
    "try:\n",
    "    some_other_value = 34 / some_value + x[6]\n",
    "except Exception as e:\n",
    "    print([e])\n",
    "    pass\n",
    "\n",
    "some_other_value"
   ]
  },
  {
   "cell_type": "code",
   "execution_count": null,
   "id": "d3158b1c",
   "metadata": {},
   "outputs": [
    {
     "ename": "SyntaxError",
     "evalue": "unmatched ']' (3129299492.py, line 10)",
     "output_type": "error",
     "traceback": [
      "  \u001b[36mCell\u001b[39m\u001b[36m \u001b[39m\u001b[32mIn[25]\u001b[39m\u001b[32m, line 10\u001b[39m\n\u001b[31m    \u001b[39m\u001b[31mt = [x]]\u001b[39m\n           ^\n\u001b[31mSyntaxError\u001b[39m\u001b[31m:\u001b[39m unmatched ']'\n"
     ]
    }
   ],
   "source": [
    "some_other_value = 45\n",
    "some_value = 1\n",
    "\n",
    "x = [3,4,5]\n",
    "i = 2\n",
    "\n",
    "try:\n",
    "    try:\n",
    "        t = k == 12\n",
    "        some_other_value = 34 / some_value + x[i]\n",
    "    except IndexError as e:\n",
    "        some_other_value = 34 / some_value\n",
    "        print(\"Index error, oh, well\", [e])\n",
    "        pass\n",
    "    except ZeroDivisionError as e:\n",
    "        some_other_value = 34 + x[i]\n",
    "        print(\"Divided by zero, oh, well\", [e])\n",
    "        pass\n",
    "    except Exception as e:\n",
    "        print(\"Other error\",str(e))\n",
    "        pass\n",
    "except:\n",
    "    pass\n",
    "\n",
    "\n",
    "some_other_value"
   ]
  },
  {
   "cell_type": "code",
   "execution_count": null,
   "id": "c6be3b12",
   "metadata": {},
   "outputs": [
    {
     "ename": "AssertionError",
     "evalue": "",
     "output_type": "error",
     "traceback": [
      "\u001b[31m---------------------------------------------------------------------------\u001b[39m",
      "\u001b[31mAssertionError\u001b[39m                            Traceback (most recent call last)",
      "\u001b[36mCell\u001b[39m\u001b[36m \u001b[39m\u001b[32mIn[33]\u001b[39m\u001b[32m, line 7\u001b[39m\n\u001b[32m      4\u001b[39m x = [\u001b[32m3\u001b[39m,\u001b[32m4\u001b[39m,\u001b[32m5\u001b[39m]\n\u001b[32m      5\u001b[39m i = \u001b[32m2\u001b[39m\n\u001b[32m----> \u001b[39m\u001b[32m7\u001b[39m \u001b[38;5;28;01massert\u001b[39;00m \u001b[32m1\u001b[39m == \u001b[32m2\u001b[39m\n\u001b[32m      9\u001b[39m \u001b[38;5;28;01mtry\u001b[39;00m:\n\u001b[32m     10\u001b[39m     \u001b[38;5;66;03m# assert 1 == 2, \"One does not equal two\"\u001b[39;00m\n\u001b[32m     11\u001b[39m     \u001b[38;5;28;01mraise\u001b[39;00m \u001b[38;5;167;01mException\u001b[39;00m(\u001b[33m\"\u001b[39m\u001b[33mI am annoyed about something\u001b[39m\u001b[33m\"\u001b[39m)\n",
      "\u001b[31mAssertionError\u001b[39m: "
     ]
    }
   ],
   "source": [
    "some_other_value = 45\n",
    "some_value = 1\n",
    "\n",
    "x = [3,4,5]\n",
    "i = 2\n",
    "\n",
    "try:\n",
    "    # assert 1 == 2, \"One does not equal two\"\n",
    "    raise Exception(\"I am annoyed about something\")\n",
    "    t = ksdfwfsfsdfs == 12\n",
    "    some_other_value = 34 / some_value + x[i]\n",
    "except IndexError as e:\n",
    "    some_other_value = 34 / some_value\n",
    "    print(\"Index error, oh, well\", [e])\n",
    "    pass\n",
    "except ZeroDivisionError as e:\n",
    "    some_other_value = 34 + x[i]\n",
    "    print(\"Divided by zero, oh, well\", [e])\n",
    "    raise e\n",
    "except Exception as e:\n",
    "    print(\"Other error\",str(e))\n",
    "    pass\n",
    "\n",
    "\n",
    "some_other_value"
   ]
  },
  {
   "cell_type": "code",
   "execution_count": 37,
   "id": "7748c273",
   "metadata": {},
   "outputs": [
    {
     "name": "stdout",
     "output_type": "stream",
     "text": [
      "oh, well\n",
      "closing f\n"
     ]
    }
   ],
   "source": [
    "try:\n",
    "    f = open(\"temp.txt\",\"w\")\n",
    "    x = 2\n",
    "    x = x / 0\n",
    "except:\n",
    "    print(\"oh, well\")\n",
    "finally:\n",
    "    print(\"closing f\")\n",
    "    f.close()\n"
   ]
  },
  {
   "cell_type": "code",
   "execution_count": null,
   "id": "93b38b77",
   "metadata": {},
   "outputs": [],
   "source": [
    "# try:\n",
    "#     f = open(\"temp.txt\",\"w\")\n",
    "#     x = 2\n",
    "#     x = x / 0\n",
    "# except:\n",
    "#     print(\"oh, well\")\n",
    "# finally:\n",
    "#     print(\"closing f\")\n",
    "#     f.close()\n",
    "\n",
    "with open(\"temp.txt\",\"w\") as f:\n",
    "    try:\n",
    "        f = open(\"temp.txt\",\"w\")\n",
    "        x = 2\n",
    "        x = x / 0\n",
    "    except:\n",
    "        print(\"oh, well\")\n",
    "\n",
    "\n"
   ]
  },
  {
   "cell_type": "code",
   "execution_count": null,
   "id": "d3945cd0",
   "metadata": {},
   "outputs": [],
   "source": [
    "class SaleTaxException(Exception):\n",
    "    pass"
   ]
  }
 ],
 "metadata": {
  "kernelspec": {
   "display_name": "Python 3",
   "language": "python",
   "name": "python3"
  },
  "language_info": {
   "codemirror_mode": {
    "name": "ipython",
    "version": 3
   },
   "file_extension": ".py",
   "mimetype": "text/x-python",
   "name": "python",
   "nbconvert_exporter": "python",
   "pygments_lexer": "ipython3",
   "version": "3.12.1"
  }
 },
 "nbformat": 4,
 "nbformat_minor": 5
}
