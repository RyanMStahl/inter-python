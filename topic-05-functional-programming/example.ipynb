{
 "cells": [
  {
   "cell_type": "code",
   "execution_count": 1,
   "id": "5df30dea",
   "metadata": {},
   "outputs": [
    {
     "name": "stdout",
     "output_type": "stream",
     "text": [
      "[1, 4, 9, 16]\n"
     ]
    }
   ],
   "source": [
    "numbers = [1, 2, 3, 4]\n",
    "squares = list(map(lambda x: x**2, numbers))\n",
    "print(squares)  # Output: [1, 4, 9, 16]\n"
   ]
  },
  {
   "cell_type": "code",
   "execution_count": 2,
   "id": "470ed76f",
   "metadata": {},
   "outputs": [
    {
     "name": "stdout",
     "output_type": "stream",
     "text": [
      "[2, 4]\n"
     ]
    }
   ],
   "source": [
    "even_numbers = list(filter(lambda x: x % 2 == 0, numbers))\n",
    "print(even_numbers)  # Output: [2, 4]\n"
   ]
  },
  {
   "cell_type": "code",
   "execution_count": 6,
   "id": "cceed3f3",
   "metadata": {},
   "outputs": [
    {
     "name": "stdout",
     "output_type": "stream",
     "text": [
      "[4, 16]\n"
     ]
    }
   ],
   "source": [
    "squared_even_numbers = [x**2 for x in numbers if x % 2 == 0]\n",
    "print(squared_even_numbers)"
   ]
  },
  {
   "cell_type": "code",
   "execution_count": 9,
   "id": "caef6d28",
   "metadata": {},
   "outputs": [
    {
     "name": "stdout",
     "output_type": "stream",
     "text": [
      "24\n"
     ]
    }
   ],
   "source": [
    "from functools import reduce\n",
    "product = reduce(lambda x, y: x * y, numbers)\n",
    "print(product)  # Output: 24\n"
   ]
  },
  {
   "cell_type": "code",
   "execution_count": 10,
   "id": "167730bf",
   "metadata": {},
   "outputs": [
    {
     "name": "stdout",
     "output_type": "stream",
     "text": [
      "7\n"
     ]
    }
   ],
   "source": [
    "add = lambda x, y: x + y\n",
    "print(add(3, 4))  # Output: 7"
   ]
  },
  {
   "cell_type": "code",
   "execution_count": 11,
   "id": "fffda479",
   "metadata": {},
   "outputs": [
    {
     "data": {
      "text/plain": [
       "7"
      ]
     },
     "execution_count": 11,
     "metadata": {},
     "output_type": "execute_result"
    }
   ],
   "source": [
    "(lambda x, y: x + y)(3,4)\n"
   ]
  },
  {
   "cell_type": "code",
   "execution_count": 18,
   "id": "99b1cb52",
   "metadata": {},
   "outputs": [
    {
     "data": {
      "text/plain": [
       "([3], [])"
      ]
     },
     "execution_count": 18,
     "metadata": {},
     "output_type": "execute_result"
    }
   ],
   "source": [
    "def upper(t, n):\n",
    "    if len(t) == 0:\n",
    "        return []\n",
    "    if t[0] > n:\n",
    "        return [t[0]] + upper(t[1:],n)\n",
    "    else:\n",
    "        return upper(t[1:],n)\n",
    "\n",
    "upper([1,2,3],2), upper([],1)"
   ]
  },
  {
   "cell_type": "code",
   "execution_count": 19,
   "id": "287fe0c5",
   "metadata": {},
   "outputs": [
    {
     "data": {
      "text/plain": [
       "([1], [])"
      ]
     },
     "execution_count": 19,
     "metadata": {},
     "output_type": "execute_result"
    }
   ],
   "source": [
    "def lower(t, n):\n",
    "    if len(t) == 0:\n",
    "        return []\n",
    "    if t[0] < n:\n",
    "        return [t[0]] + lower(t[1:],n)\n",
    "    else:\n",
    "        return lower(t[1:],n)\n",
    "\n",
    "lower([1,2,3],2), lower([],1)"
   ]
  },
  {
   "cell_type": "code",
   "execution_count": 22,
   "id": "893dad6c",
   "metadata": {},
   "outputs": [
    {
     "data": {
      "text/plain": [
       "([2], [])"
      ]
     },
     "execution_count": 22,
     "metadata": {},
     "output_type": "execute_result"
    }
   ],
   "source": [
    "def equal(t, n):\n",
    "    if len(t) == 0:\n",
    "        return []\n",
    "    if t[0] == n:\n",
    "        return [t[0]] + equal(t[1:],n)\n",
    "    else:\n",
    "        return equal(t[1:],n)\n",
    "\n",
    "equal([1,2,3],2), equal([],1)"
   ]
  },
  {
   "cell_type": "code",
   "execution_count": 25,
   "id": "2da2a6e2",
   "metadata": {},
   "outputs": [
    {
     "data": {
      "text/plain": [
       "[1, 2, 2, 4, 5, 6, 9]"
      ]
     },
     "execution_count": 25,
     "metadata": {},
     "output_type": "execute_result"
    }
   ],
   "source": [
    "def sort(t):\n",
    "    if t == []:\n",
    "        return []\n",
    "    return sort(lower(t, t[0])) + equal(t,t[0]) + sort(upper(t ,t[0]))\n",
    "\n",
    "sort([1,4,2,6,9,2,5])"
   ]
  }
 ],
 "metadata": {
  "kernelspec": {
   "display_name": "Python 3",
   "language": "python",
   "name": "python3"
  },
  "language_info": {
   "codemirror_mode": {
    "name": "ipython",
    "version": 3
   },
   "file_extension": ".py",
   "mimetype": "text/x-python",
   "name": "python",
   "nbconvert_exporter": "python",
   "pygments_lexer": "ipython3",
   "version": "3.12.1"
  }
 },
 "nbformat": 4,
 "nbformat_minor": 5
}
