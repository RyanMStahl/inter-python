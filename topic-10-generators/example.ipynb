{
 "cells": [
  {
   "cell_type": "code",
   "execution_count": 5,
   "id": "934c317b",
   "metadata": {},
   "outputs": [
    {
     "name": "stdout",
     "output_type": "stream",
     "text": [
      "providing  1\n",
      "providing  2\n",
      "providing  3\n",
      "providing  4\n",
      "providing  5\n"
     ]
    },
    {
     "data": {
      "text/plain": [
       "[1, 2, 3, 4, 5]"
      ]
     },
     "execution_count": 5,
     "metadata": {},
     "output_type": "execute_result"
    }
   ],
   "source": [
    "def count_up_to(n):\n",
    "    i = 1\n",
    "    while i <= n:\n",
    "        print(\"providing \",i)\n",
    "        yield i\n",
    "        #--- start next time from here\n",
    "        i = i + 1\n",
    "\n",
    "list(count_up_to(5))"
   ]
  },
  {
   "cell_type": "code",
   "execution_count": 6,
   "id": "616f835f",
   "metadata": {},
   "outputs": [
    {
     "name": "stdout",
     "output_type": "stream",
     "text": [
      "providing  1\n",
      "I just got a  1\n",
      "providing  2\n",
      "I just got a  2\n",
      "providing  3\n",
      "I just got a  3\n",
      "providing  4\n",
      "I just got a  4\n",
      "providing  5\n",
      "I just got a  5\n"
     ]
    }
   ],
   "source": [
    "from time import sleep\n",
    "for num in count_up_to(5):\n",
    "    print(\"I just got a \", num)\n",
    "    sleep(1.0)\n"
   ]
  },
  {
   "cell_type": "code",
   "execution_count": 10,
   "id": "179f5e44",
   "metadata": {},
   "outputs": [
    {
     "data": {
      "text/plain": [
       "[0, 2, 4, 6, 8, 10, 12, 14, 16, 18]"
      ]
     },
     "execution_count": 10,
     "metadata": {},
     "output_type": "execute_result"
    }
   ],
   "source": [
    "def even_numbers():\n",
    "    n = 0\n",
    "    while True:\n",
    "        yield n\n",
    "        n = n + 2\n",
    "\n",
    "evens = even_numbers()\n",
    "# for x in range(0,100):\n",
    "#     print(next(evens))\n",
    "[ next(evens) for i in range(0,10) ]\n"
   ]
  },
  {
   "cell_type": "code",
   "execution_count": null,
   "id": "d8bf09ce",
   "metadata": {},
   "outputs": [],
   "source": []
  }
 ],
 "metadata": {
  "kernelspec": {
   "display_name": "Python 3",
   "language": "python",
   "name": "python3"
  },
  "language_info": {
   "codemirror_mode": {
    "name": "ipython",
    "version": 3
   },
   "file_extension": ".py",
   "mimetype": "text/x-python",
   "name": "python",
   "nbconvert_exporter": "python",
   "pygments_lexer": "ipython3",
   "version": "3.12.1"
  }
 },
 "nbformat": 4,
 "nbformat_minor": 5
}
