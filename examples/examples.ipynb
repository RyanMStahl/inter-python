{
 "cells": [
  {
   "cell_type": "code",
   "execution_count": 20,
   "id": "5864e8b6",
   "metadata": {},
   "outputs": [],
   "source": [
    "from pprint import pprint"
   ]
  },
  {
   "cell_type": "code",
   "execution_count": 24,
   "id": "40bed01d",
   "metadata": {},
   "outputs": [
    {
     "data": {
      "text/plain": [
       "[3, 4, 5, 6]"
      ]
     },
     "execution_count": 24,
     "metadata": {},
     "output_type": "execute_result"
    }
   ],
   "source": [
    "# lists\n",
    "\n",
    "t = [ 3,4,5,6 ]\n",
    "t"
   ]
  },
  {
   "cell_type": "code",
   "execution_count": 29,
   "id": "273ee501",
   "metadata": {},
   "outputs": [
    {
     "data": {
      "text/plain": [
       "([3, 4, 5, 6], 3, 6, 6)"
      ]
     },
     "execution_count": 29,
     "metadata": {},
     "output_type": "execute_result"
    }
   ],
   "source": [
    "t, t[0], t[len(t)-1], t[-1]"
   ]
  },
  {
   "cell_type": "code",
   "execution_count": null,
   "id": "c35e0f8e",
   "metadata": {},
   "outputs": [
    {
     "data": {
      "text/plain": [
       "(3,\n",
       " [],\n",
       " [3, 4],\n",
       " [3, 4, 5],\n",
       " [3, 4, 5, 6],\n",
       " [3, 4, 5, 6],\n",
       " [5, 6],\n",
       " [3, 4, 5, 6],\n",
       " [3, 5],\n",
       " [6, 5, 4, 3])"
      ]
     },
     "execution_count": 45,
     "metadata": {},
     "output_type": "execute_result"
    }
   ],
   "source": [
    "t[0],t[0:0],t[0:2],t[0:-1],t[0:],t[:],t[-2:],t[:],t[::2],t[::-1]"
   ]
  },
  {
   "cell_type": "code",
   "execution_count": 49,
   "id": "6131ae62",
   "metadata": {},
   "outputs": [
    {
     "data": {
      "text/plain": [
       "[1, 5, 3]"
      ]
     },
     "execution_count": 49,
     "metadata": {},
     "output_type": "execute_result"
    }
   ],
   "source": [
    "t=[1,2]\n",
    "t.append(3)\n",
    "t[1]=5\n",
    "t"
   ]
  },
  {
   "cell_type": "code",
   "execution_count": 56,
   "id": "1ebb78fb",
   "metadata": {},
   "outputs": [
    {
     "data": {
      "text/plain": [
       "((1, 2), [1, 2], (1, 2), (1, 2, 55))"
      ]
     },
     "execution_count": 56,
     "metadata": {},
     "output_type": "execute_result"
    }
   ],
   "source": [
    "# tuples are immutable\n",
    "\n",
    "q = (1,2)\n",
    "r = [1,2]\n",
    "z = list(q)\n",
    "z.append(55)\n",
    "q, list(q), tuple(r), tuple(z)"
   ]
  },
  {
   "cell_type": "code",
   "execution_count": 61,
   "id": "a9fc5b69",
   "metadata": {},
   "outputs": [
    {
     "data": {
      "text/plain": [
       "(4, 8)"
      ]
     },
     "execution_count": 61,
     "metadata": {},
     "output_type": "execute_result"
    }
   ],
   "source": [
    "def x(z):\n",
    "    return z,z*2\n",
    "a,b = x(4)\n",
    "a,b\n"
   ]
  },
  {
   "cell_type": "code",
   "execution_count": 67,
   "id": "febf8ec1",
   "metadata": {},
   "outputs": [
    {
     "data": {
      "text/plain": [
       "{1, 2, 3, 4}"
      ]
     },
     "execution_count": 67,
     "metadata": {},
     "output_type": "execute_result"
    }
   ],
   "source": [
    "s = {1,2,3}\n",
    "s.add(4)\n",
    "s.add(4)\n",
    "s"
   ]
  },
  {
   "cell_type": "code",
   "execution_count": 69,
   "id": "f62fa75f",
   "metadata": {},
   "outputs": [
    {
     "data": {
      "text/plain": [
       "[1, 2, 3, 5, 6, 7]"
      ]
     },
     "execution_count": 69,
     "metadata": {},
     "output_type": "execute_result"
    }
   ],
   "source": [
    "t = list(set([1,3,2,5,2,3,5,6,7,3,5,3]))\n",
    "t"
   ]
  },
  {
   "cell_type": "code",
   "execution_count": 70,
   "id": "04b95682",
   "metadata": {},
   "outputs": [
    {
     "data": {
      "text/plain": [
       "{'name': 'dorothy', 'age': 11, 'color': 'white', 'food': 'dog food'}"
      ]
     },
     "execution_count": 70,
     "metadata": {},
     "output_type": "execute_result"
    }
   ],
   "source": [
    "pet = {\"name\":\"dorothy\",\"age\":11,\"color\":\"white\",\"food\":\"dog food\"}\n",
    "pet"
   ]
  },
  {
   "cell_type": "code",
   "execution_count": 72,
   "id": "d37c4f16",
   "metadata": {},
   "outputs": [
    {
     "data": {
      "text/plain": [
       "{'name': 'dorothy',\n",
       " 'age': 11,\n",
       " 'color': 'white',\n",
       " 'food': 'dog food',\n",
       " 'fav numbers': [3, 4, 2, 1]}"
      ]
     },
     "execution_count": 72,
     "metadata": {},
     "output_type": "execute_result"
    }
   ],
   "source": [
    "pet[\"fav numbers\"]=[3,4,2,1]\n",
    "pet"
   ]
  }
 ],
 "metadata": {
  "kernelspec": {
   "display_name": "Python 3",
   "language": "python",
   "name": "python3"
  },
  "language_info": {
   "codemirror_mode": {
    "name": "ipython",
    "version": 3
   },
   "file_extension": ".py",
   "mimetype": "text/x-python",
   "name": "python",
   "nbconvert_exporter": "python",
   "pygments_lexer": "ipython3",
   "version": "3.12.1"
  }
 },
 "nbformat": 4,
 "nbformat_minor": 5
}
