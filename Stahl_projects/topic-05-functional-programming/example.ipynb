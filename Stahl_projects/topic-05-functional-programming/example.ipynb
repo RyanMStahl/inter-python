{
 "cells": [
  {
   "cell_type": "code",
   "execution_count": null,
   "id": "125fa149",
   "metadata": {},
   "outputs": [
    {
     "data": {
      "text/plain": [
       "[1, 4, 9, 16]"
      ]
     },
     "execution_count": 2,
     "metadata": {},
     "output_type": "execute_result"
    }
   ],
   "source": [
    "numbers = [1, 2, 3, 4]\n",
    "squares = list(map(lambda x : x**2, numbers))\n",
    "squares"
   ]
  },
  {
   "cell_type": "code",
   "execution_count": null,
   "id": "6170f692",
   "metadata": {},
   "outputs": [
    {
     "data": {
      "text/plain": [
       "[2, 4]"
      ]
     },
     "execution_count": 3,
     "metadata": {},
     "output_type": "execute_result"
    }
   ],
   "source": [
    "even_numbers = list(filter(lambda x : x % 2 == 0, numbers))\n",
    "even_numbers"
   ]
  },
  {
   "cell_type": "code",
   "execution_count": 5,
   "id": "995dca27",
   "metadata": {},
   "outputs": [
    {
     "data": {
      "text/plain": [
       "24"
      ]
     },
     "execution_count": 5,
     "metadata": {},
     "output_type": "execute_result"
    }
   ],
   "source": [
    "from functools import reduce\n",
    "product = reduce(lambda x, y: x * y, numbers)\n",
    "product"
   ]
  },
  {
   "cell_type": "code",
   "execution_count": 6,
   "id": "043414eb",
   "metadata": {},
   "outputs": [
    {
     "data": {
      "text/plain": [
       "10"
      ]
     },
     "execution_count": 6,
     "metadata": {},
     "output_type": "execute_result"
    }
   ],
   "source": [
    "product = reduce(lambda x, y: x + y, numbers)\n",
    "product"
   ]
  },
  {
   "cell_type": "code",
   "execution_count": null,
   "id": "b3849cfc",
   "metadata": {},
   "outputs": [
    {
     "data": {
      "text/plain": [
       "7"
      ]
     },
     "execution_count": 8,
     "metadata": {},
     "output_type": "execute_result"
    }
   ],
   "source": [
    "# Lambda overview\n",
    "    ## A small function without a name that focus on a single expression for some sort of input\n",
    "# add = lambda x, y: x + y\n",
    "# print(add(3, 4))\n",
    "(lambda x, y: x + y)(3, 4)"
   ]
  },
  {
   "cell_type": "code",
   "execution_count": 11,
   "id": "b90d72c7",
   "metadata": {},
   "outputs": [
    {
     "data": {
      "text/plain": [
       "[]"
      ]
     },
     "execution_count": 11,
     "metadata": {},
     "output_type": "execute_result"
    }
   ],
   "source": [
    "# Create a function that returns all values in a list, t, greater than n\n",
    "# This is a recursive function: a function that calls itself\n",
    "    ## Three main characteristics:\n",
    "    ## 1. Base case to prevent infinite loop calling\n",
    "    ## 2. The method calls itself\n",
    "    ## 3. Each call to itself passes in a smaller dataset\n",
    "def upper(t, n):\n",
    "    if len(t) == 0:\n",
    "        return []\n",
    "    if t[0] > n:\n",
    "        return [t[0]] + upper(t[1:], n)\n",
    "    else:\n",
    "        return upper(t[1:], n)\n",
    "\n",
    "upper([1, 2, 3], 4)"
   ]
  },
  {
   "cell_type": "code",
   "execution_count": 15,
   "id": "c18c5f21",
   "metadata": {},
   "outputs": [
    {
     "data": {
      "text/plain": [
       "[]"
      ]
     },
     "execution_count": 15,
     "metadata": {},
     "output_type": "execute_result"
    }
   ],
   "source": [
    "def lower(t, n):\n",
    "    if len(t) == 0:\n",
    "        return []\n",
    "    if t[0] < n:\n",
    "        return [t[0]] + lower(t[1:], n)\n",
    "    else:\n",
    "        return lower(t[1:], n)\n",
    "    \n",
    "lower([1, 2, 3], 0)"
   ]
  },
  {
   "cell_type": "code",
   "execution_count": 18,
   "id": "aa8ac50d",
   "metadata": {},
   "outputs": [
    {
     "data": {
      "text/plain": [
       "[3]"
      ]
     },
     "execution_count": 18,
     "metadata": {},
     "output_type": "execute_result"
    }
   ],
   "source": [
    "def equal(t, n):\n",
    "    if len(t) == 0:\n",
    "        return []\n",
    "    if t[0] == n:\n",
    "        return [t[0]] + equal(t[1:], n)\n",
    "    else:\n",
    "        return equal(t[1:], n)\n",
    "    \n",
    "equal([1, 2, 3], 3)"
   ]
  },
  {
   "cell_type": "code",
   "execution_count": null,
   "id": "69fcbbfb",
   "metadata": {},
   "outputs": [
    {
     "data": {
      "text/plain": [
       "[1, 4, 2, 6, 9, 2, 5]"
      ]
     },
     "execution_count": 19,
     "metadata": {},
     "output_type": "execute_result"
    }
   ],
   "source": [
    "# As this function is, it returns the same list as passed in\n",
    "## lower() returns everything less than 1, which is no other value in this case\n",
    "## equal() returns all entries that are 1, which is just the first index in this case\n",
    "## upper() returns everything else greater than 1, which is the rest of the list in this case in the same order\n",
    "def sort(t):\n",
    "    return lower(t, t[0]) + equal(t, t[0]) + upper(t, t[0])\n",
    "\n",
    "sort([1, 4, 2, 6, 9, 2, 5])"
   ]
  },
  {
   "cell_type": "code",
   "execution_count": 21,
   "id": "74d48618",
   "metadata": {},
   "outputs": [
    {
     "data": {
      "text/plain": [
       "[1, 2, 2, 4, 5, 6, 9]"
      ]
     },
     "execution_count": 21,
     "metadata": {},
     "output_type": "execute_result"
    }
   ],
   "source": [
    "def sort(t):\n",
    "    if t == []:\n",
    "        return []\n",
    "    return sort(lower(t, t[0])) + equal(t, t[0]) + sort(upper(t, t[0]))\n",
    "\n",
    "sort([1, 4, 2, 6, 9, 2, 5])"
   ]
  },
  {
   "cell_type": "code",
   "execution_count": 1,
   "id": "1e369507",
   "metadata": {},
   "outputs": [
    {
     "name": "stdout",
     "output_type": "stream",
     "text": [
      "['alice', 'bob', 'charlie']\n"
     ]
    }
   ],
   "source": [
    "# Practice Exercises for lesson 5 ---------------------\n",
    "names = [\"alice\", \"BOB\", \"ChArLiE\"]\n",
    "lower_names = list(map(lambda x:x.lower(), names))\n",
    "print(lower_names)"
   ]
  },
  {
   "cell_type": "code",
   "execution_count": 3,
   "id": "1c85ec08",
   "metadata": {},
   "outputs": [
    {
     "name": "stdout",
     "output_type": "stream",
     "text": [
      "[6, 2, 3]\n"
     ]
    }
   ],
   "source": [
    "words = [\"Python\", \"is\", \"fun\"]\n",
    "lengths = list(map(lambda word: len(word), words))\n",
    "print(lengths)"
   ]
  },
  {
   "cell_type": "code",
   "execution_count": 4,
   "id": "16a018a3",
   "metadata": {},
   "outputs": [
    {
     "name": "stdout",
     "output_type": "stream",
     "text": [
      "[3, 8, 1]\n"
     ]
    }
   ],
   "source": [
    "nums = [-5, 3, 0, -2, 8, 1]\n",
    "pos_nums = list(filter(lambda x: x > 0, nums))\n",
    "print(pos_nums)"
   ]
  }
 ],
 "metadata": {
  "kernelspec": {
   "display_name": "Python 3",
   "language": "python",
   "name": "python3"
  },
  "language_info": {
   "codemirror_mode": {
    "name": "ipython",
    "version": 3
   },
   "file_extension": ".py",
   "mimetype": "text/x-python",
   "name": "python",
   "nbconvert_exporter": "python",
   "pygments_lexer": "ipython3",
   "version": "3.12.1"
  }
 },
 "nbformat": 4,
 "nbformat_minor": 5
}
