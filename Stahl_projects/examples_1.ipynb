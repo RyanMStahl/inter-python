{
 "cells": [
  {
   "cell_type": "code",
   "execution_count": 13,
   "id": "9c116dc4",
   "metadata": {},
   "outputs": [],
   "source": [
    "from pprint import pprint as p\n",
    "from collections import Counter"
   ]
  },
  {
   "cell_type": "code",
   "execution_count": 30,
   "id": "c250e09f",
   "metadata": {},
   "outputs": [
    {
     "data": {
      "text/plain": [
       "[3, 4, 5, 6]"
      ]
     },
     "execution_count": 30,
     "metadata": {},
     "output_type": "execute_result"
    }
   ],
   "source": [
    "t = [3, 4, 5, 6]\n",
    "t"
   ]
  },
  {
   "cell_type": "code",
   "execution_count": 32,
   "id": "4c26142f",
   "metadata": {},
   "outputs": [
    {
     "data": {
      "text/plain": [
       "([3, 4, 5, 6], 3, 6)"
      ]
     },
     "execution_count": 32,
     "metadata": {},
     "output_type": "execute_result"
    }
   ],
   "source": [
    "t, t[0], t[-1]"
   ]
  },
  {
   "cell_type": "code",
   "execution_count": null,
   "id": "c79d0e43",
   "metadata": {},
   "outputs": [
    {
     "data": {
      "text/plain": [
       "([3],\n",
       " [],\n",
       " [3, 4],\n",
       " [3, 4, 5],\n",
       " [3, 4, 5, 6],\n",
       " [3, 4, 5, 6],\n",
       " 5,\n",
       " [3, 5],\n",
       " [4, 6],\n",
       " [6, 5, 4, 3],\n",
       " [6, 5, 4, 3])"
      ]
     },
     "execution_count": 41,
     "metadata": {},
     "output_type": "execute_result"
    }
   ],
   "source": [
    "t[0:1], t[0:0], t[0:2], t[0:-1], t[0:], t[:], t[-2], t[::2], t[1::2], t[::-1], t[2::-1]"
   ]
  },
  {
   "cell_type": "code",
   "execution_count": 42,
   "id": "ce6a80fa",
   "metadata": {},
   "outputs": [
    {
     "data": {
      "text/plain": [
       "{1, 2, 3, 4, 5}"
      ]
     },
     "execution_count": 42,
     "metadata": {},
     "output_type": "execute_result"
    }
   ],
   "source": [
    "s = {1, 2, 3}\n",
    "s.add(4)\n",
    "s.add(4)\n",
    "s.add(5)\n",
    "s"
   ]
  },
  {
   "cell_type": "code",
   "execution_count": 43,
   "id": "48b9c563",
   "metadata": {},
   "outputs": [
    {
     "data": {
      "text/plain": [
       "[1, 2, 3, 5, 6, 7]"
      ]
     },
     "execution_count": 43,
     "metadata": {},
     "output_type": "execute_result"
    }
   ],
   "source": [
    "t = list(set([1, 3, 2, 5, 2, 3, 5, 6, 7, 3, 5, 3]))\n",
    "t"
   ]
  },
  {
   "cell_type": "code",
   "execution_count": 5,
   "id": "2caec49a",
   "metadata": {},
   "outputs": [
    {
     "data": {
      "text/plain": [
       "([1, 4, 9, 25, 36, 49, 81], [11, 12, 14])"
      ]
     },
     "execution_count": 5,
     "metadata": {},
     "output_type": "execute_result"
    }
   ],
   "source": [
    "t = [1, 2, 3, 5, 6, 7, 9]\n",
    "x = [ item**2 for item in t ]\n",
    "z = [ item + 5 for item in t if item > 5]\n",
    "x, z"
   ]
  },
  {
   "cell_type": "code",
   "execution_count": 6,
   "id": "787ce12b",
   "metadata": {},
   "outputs": [
    {
     "data": {
      "text/plain": [
       "{'1': [1], '2': [2], '3': [3], '5': [5], '6': [6], '7': [7], '9': [9]}"
      ]
     },
     "execution_count": 6,
     "metadata": {},
     "output_type": "execute_result"
    }
   ],
   "source": [
    "{str(item):[item] for item in t}"
   ]
  },
  {
   "cell_type": "code",
   "execution_count": 7,
   "id": "7094fa55",
   "metadata": {},
   "outputs": [
    {
     "data": {
      "text/plain": [
       "{1: 1, 2: 4, 3: 9, 5: 25, 6: 36, 7: 49, 9: 81}"
      ]
     },
     "execution_count": 7,
     "metadata": {},
     "output_type": "execute_result"
    }
   ],
   "source": [
    "squares = {item:item*item for item in t}\n",
    "squares"
   ]
  },
  {
   "cell_type": "code",
   "execution_count": 8,
   "id": "6e8dcfb7",
   "metadata": {},
   "outputs": [
    {
     "data": {
      "text/plain": [
       "[4, 16, 36, 64, 100]"
      ]
     },
     "execution_count": 8,
     "metadata": {},
     "output_type": "execute_result"
    }
   ],
   "source": [
    "nums = [1, 2, 3, 4, 5, 6, 7, 8, 9, 10]\n",
    "x = [ val**2 for val in nums if val % 2 == 0]\n",
    "x"
   ]
  },
  {
   "cell_type": "code",
   "execution_count": 12,
   "id": "d976add6",
   "metadata": {},
   "outputs": [
    {
     "data": {
      "text/plain": [
       "[4, 5, 8, 9, 13, 31, 34, 62]"
      ]
     },
     "execution_count": 12,
     "metadata": {},
     "output_type": "execute_result"
    }
   ],
   "source": [
    "t = [13, 4, 34, 62, 31, 5, 9, 8]\n",
    "t.sort()\n",
    "t"
   ]
  },
  {
   "cell_type": "code",
   "execution_count": null,
   "id": "a9d9b2a6",
   "metadata": {},
   "outputs": [],
   "source": [
    "scores = {'Alice': 85, 'Charlie': 94, 'Bob': 78}\n",
    "sorted_scores = (scores.items(), )"
   ]
  },
  {
   "cell_type": "code",
   "execution_count": 14,
   "id": "9fd9b36d",
   "metadata": {},
   "outputs": [
    {
     "name": "stdout",
     "output_type": "stream",
     "text": [
      "Counter({'apple': 3, 'banana': 2, 'peach': 2, 'orange': 1})\n"
     ]
    }
   ],
   "source": [
    "things = ['apple', 'banana', 'peach', 'banana', 'peach', 'apple', 'apple', 'orange']\n",
    "counter = Counter(things)\n",
    "print(counter)"
   ]
  },
  {
   "cell_type": "code",
   "execution_count": 15,
   "id": "bcdd01b0",
   "metadata": {},
   "outputs": [
    {
     "data": {
      "text/plain": [
       "[('Alice', 94), ('Bob', 89), ('Charlie', 97)]"
      ]
     },
     "execution_count": 15,
     "metadata": {},
     "output_type": "execute_result"
    }
   ],
   "source": [
    "names = ['Alice', 'Bob', 'Charlie']\n",
    "scores = [94, 89, 97]\n",
    "combined = list(zip(names, scores))\n",
    "combined"
   ]
  },
  {
   "cell_type": "code",
   "execution_count": 17,
   "id": "e060a5c0",
   "metadata": {},
   "outputs": [
    {
     "data": {
      "text/plain": [
       "{'Alice': 94, 'Bob': 89, 'Charlie': 97}"
      ]
     },
     "execution_count": 17,
     "metadata": {},
     "output_type": "execute_result"
    }
   ],
   "source": [
    "data = {name:score for name, score in combined}\n",
    "data"
   ]
  },
  {
   "cell_type": "code",
   "execution_count": 24,
   "id": "87530a47",
   "metadata": {},
   "outputs": [
    {
     "data": {
      "text/plain": [
       "[11, 12, 13, 14, 15, 16, 17, 18, 19]"
      ]
     },
     "execution_count": 24,
     "metadata": {},
     "output_type": "execute_result"
    }
   ],
   "source": [
    "toplist = [\n",
    "    [1, 2, 3],\n",
    "    [4, 5, 6],\n",
    "    [7, 8, 9]\n",
    "]\n",
    "\n",
    "z = [item+10 for sublist in toplist for item in sublist]\n",
    "z"
   ]
  },
  {
   "cell_type": "code",
   "execution_count": 25,
   "id": "de0829ad",
   "metadata": {},
   "outputs": [
    {
     "data": {
      "text/plain": [
       "[[11, 12, 13], [14, 15, 16], [17, 18, 19]]"
      ]
     },
     "execution_count": 25,
     "metadata": {},
     "output_type": "execute_result"
    }
   ],
   "source": [
    "y = [[item+10 for item in row] for row in toplist]\n",
    "y"
   ]
  },
  {
   "cell_type": "code",
   "execution_count": 2,
   "id": "6f284f02",
   "metadata": {},
   "outputs": [
    {
     "data": {
      "text/plain": [
       "[4, 16, 36, 64, 100]"
      ]
     },
     "execution_count": 2,
     "metadata": {},
     "output_type": "execute_result"
    }
   ],
   "source": [
    "[x**2 for x in range (1,11) if x%2 == 0]"
   ]
  },
  {
   "cell_type": "code",
   "execution_count": null,
   "id": "217daa53",
   "metadata": {},
   "outputs": [
    {
     "data": {
      "text/plain": [
       "{'Alice': 85, 'Charlie': 88, 'Bob': 92}"
      ]
     },
     "execution_count": 9,
     "metadata": {},
     "output_type": "execute_result"
    }
   ],
   "source": [
    "# All nodes below this one are for the practice doc 1\n",
    "scores = {'Alice': 85, 'Bob': 92, 'Charlie': 88}\n",
    "sorted_scores = dict(sorted(scores.items(), key=lambda x:x[1], reverse=False))\n",
    "sorted_scores"
   ]
  },
  {
   "cell_type": "code",
   "execution_count": 16,
   "id": "45752339",
   "metadata": {},
   "outputs": [
    {
     "name": "stdout",
     "output_type": "stream",
     "text": [
      "{'a': {'x': 1, 'y': 4}, 'b': {'x': 9, 'y': 16}}\n"
     ]
    }
   ],
   "source": [
    "outer_dict = {'a': {'x': 1, 'y': 2}, 'b': {'x': 3, 'y': 4}}\n",
    "\n",
    "transformed = {outer_key: {inner_key: inner_val**2 for inner_key, inner_val in inner_dict.items()} for outer_key, inner_dict in outer_dict.items()}\n",
    "\n",
    "print(transformed)"
   ]
  },
  {
   "cell_type": "code",
   "execution_count": 20,
   "id": "6a31abb8",
   "metadata": {},
   "outputs": [
    {
     "name": "stdout",
     "output_type": "stream",
     "text": [
      "{'Ann': {'english': 88}, 'Ben': {'english': 90}, 'Cara': {'history': 91}}\n"
     ]
    }
   ],
   "source": [
    "data = {\n",
    " \"Ann\": {\"english\": 88, \"history\": 76},\n",
    " \"Ben\": {\"english\": 90, \"history\": 82},\n",
    " \"Cara\": {\"english\": 72, \"history\": 91}\n",
    "}\n",
    "\n",
    "new_data = {outer_key: {inner_key: inner_val for inner_key, inner_val in inner_dict.items() if inner_val >= 85} for outer_key, inner_dict in data.items()}\n",
    "\n",
    "print(new_data)"
   ]
  },
  {
   "cell_type": "code",
   "execution_count": 21,
   "id": "3b744f9a",
   "metadata": {},
   "outputs": [
    {
     "name": "stdout",
     "output_type": "stream",
     "text": [
      "{'data': 4, 'science': 7, 'rocks': 5}\n"
     ]
    }
   ],
   "source": [
    "words = ['data', 'science', 'rocks']\n",
    "\n",
    "data = {word: len(word) for word in words}\n",
    "\n",
    "print(data)"
   ]
  }
 ],
 "metadata": {
  "kernelspec": {
   "display_name": "Python 3",
   "language": "python",
   "name": "python3"
  },
  "language_info": {
   "codemirror_mode": {
    "name": "ipython",
    "version": 3
   },
   "file_extension": ".py",
   "mimetype": "text/x-python",
   "name": "python",
   "nbconvert_exporter": "python",
   "pygments_lexer": "ipython3",
   "version": "3.12.1"
  }
 },
 "nbformat": 4,
 "nbformat_minor": 5
}
