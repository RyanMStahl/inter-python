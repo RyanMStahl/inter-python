{
 "cells": [
  {
   "cell_type": "code",
   "execution_count": 24,
   "id": "9c116dc4",
   "metadata": {},
   "outputs": [],
   "source": [
    "from pprint import pprint as p"
   ]
  },
  {
   "cell_type": "code",
   "execution_count": 30,
   "id": "c250e09f",
   "metadata": {},
   "outputs": [
    {
     "data": {
      "text/plain": [
       "[3, 4, 5, 6]"
      ]
     },
     "execution_count": 30,
     "metadata": {},
     "output_type": "execute_result"
    }
   ],
   "source": [
    "t = [3, 4, 5, 6]\n",
    "t"
   ]
  },
  {
   "cell_type": "code",
   "execution_count": 32,
   "id": "4c26142f",
   "metadata": {},
   "outputs": [
    {
     "data": {
      "text/plain": [
       "([3, 4, 5, 6], 3, 6)"
      ]
     },
     "execution_count": 32,
     "metadata": {},
     "output_type": "execute_result"
    }
   ],
   "source": [
    "t, t[0], t[-1]"
   ]
  },
  {
   "cell_type": "code",
   "execution_count": null,
   "id": "c79d0e43",
   "metadata": {},
   "outputs": [
    {
     "data": {
      "text/plain": [
       "([3],\n",
       " [],\n",
       " [3, 4],\n",
       " [3, 4, 5],\n",
       " [3, 4, 5, 6],\n",
       " [3, 4, 5, 6],\n",
       " 5,\n",
       " [3, 5],\n",
       " [4, 6],\n",
       " [6, 5, 4, 3],\n",
       " [6, 5, 4, 3])"
      ]
     },
     "execution_count": 41,
     "metadata": {},
     "output_type": "execute_result"
    }
   ],
   "source": [
    "t[0:1], t[0:0], t[0:2], t[0:-1], t[0:], t[:], t[-2], t[::2], t[1::2], t[::-1], t[2::-1]"
   ]
  },
  {
   "cell_type": "code",
   "execution_count": 42,
   "id": "ce6a80fa",
   "metadata": {},
   "outputs": [
    {
     "data": {
      "text/plain": [
       "{1, 2, 3, 4, 5}"
      ]
     },
     "execution_count": 42,
     "metadata": {},
     "output_type": "execute_result"
    }
   ],
   "source": [
    "s = {1, 2, 3}\n",
    "s.add(4)\n",
    "s.add(4)\n",
    "s.add(5)\n",
    "s"
   ]
  },
  {
   "cell_type": "code",
   "execution_count": 43,
   "id": "48b9c563",
   "metadata": {},
   "outputs": [
    {
     "data": {
      "text/plain": [
       "[1, 2, 3, 5, 6, 7]"
      ]
     },
     "execution_count": 43,
     "metadata": {},
     "output_type": "execute_result"
    }
   ],
   "source": [
    "t = list(set([1, 3, 2, 5, 2, 3, 5, 6, 7, 3, 5, 3]))\n",
    "t"
   ]
  }
 ],
 "metadata": {
  "kernelspec": {
   "display_name": "Python 3",
   "language": "python",
   "name": "python3"
  },
  "language_info": {
   "codemirror_mode": {
    "name": "ipython",
    "version": 3
   },
   "file_extension": ".py",
   "mimetype": "text/x-python",
   "name": "python",
   "nbconvert_exporter": "python",
   "pygments_lexer": "ipython3",
   "version": "3.12.1"
  }
 },
 "nbformat": 4,
 "nbformat_minor": 5
}
