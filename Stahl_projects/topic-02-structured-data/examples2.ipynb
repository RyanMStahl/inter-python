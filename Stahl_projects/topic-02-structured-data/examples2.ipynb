{
 "cells": [
  {
   "cell_type": "code",
   "execution_count": null,
   "id": "cc8c9e20",
   "metadata": {},
   "outputs": [
    {
     "data": {
      "text/plain": [
       "(<__main__.Thing at 0x7bd2e257bf20>, 50)"
      ]
     },
     "execution_count": 4,
     "metadata": {},
     "output_type": "execute_result"
    }
   ],
   "source": [
    "# Trying to import the pickle object from a file separate from the object definition does not work\n",
    "## Adding the class definition below fixes this issue\n",
    "import pickle\n",
    "\n",
    "with open(\"things.pkl\", \"rb\") as pb:\n",
    "   things2 = pickle.load(pb)\n",
    "\n",
    "things2[0], things2[50].a"
   ]
  },
  {
   "cell_type": "code",
   "execution_count": 3,
   "id": "125db948",
   "metadata": {},
   "outputs": [
    {
     "data": {
      "text/plain": [
       "(<__main__.Thing at 0x7bd2e25786b0>, 50)"
      ]
     },
     "execution_count": 3,
     "metadata": {},
     "output_type": "execute_result"
    }
   ],
   "source": [
    "class Thing:\n",
    "    def __init__(self, a=1, b=2):\n",
    "        self.a = a\n",
    "        self.b = b\n",
    "\n",
    "with open(\"things.pkl\", \"rb\") as pb:\n",
    "   things2 = pickle.load(pb)\n",
    "\n",
    "things2[0], things2[50].a"
   ]
  }
 ],
 "metadata": {
  "kernelspec": {
   "display_name": "Python 3",
   "language": "python",
   "name": "python3"
  },
  "language_info": {
   "codemirror_mode": {
    "name": "ipython",
    "version": 3
   },
   "file_extension": ".py",
   "mimetype": "text/x-python",
   "name": "python",
   "nbconvert_exporter": "python",
   "pygments_lexer": "ipython3",
   "version": "3.12.1"
  }
 },
 "nbformat": 4,
 "nbformat_minor": 5
}
