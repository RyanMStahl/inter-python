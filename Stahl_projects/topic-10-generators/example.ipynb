{
 "cells": [
  {
   "cell_type": "code",
   "execution_count": 4,
   "id": "988d8636",
   "metadata": {},
   "outputs": [
    {
     "name": "stdout",
     "output_type": "stream",
     "text": [
      "providing  1\n",
      "providing  2\n",
      "providing  3\n",
      "providing  4\n",
      "providing  5\n",
      "providing  6\n",
      "providing  7\n",
      "providing  8\n",
      "providing  9\n",
      "providing  10\n"
     ]
    },
    {
     "data": {
      "text/plain": [
       "[1, 2, 3, 4, 5, 6, 7, 8, 9, 10]"
      ]
     },
     "execution_count": 4,
     "metadata": {},
     "output_type": "execute_result"
    }
   ],
   "source": [
    "def count_up_to(n):\n",
    "    i = 1\n",
    "    while i <= n:\n",
    "        print(\"providing \", i)\n",
    "        yield i\n",
    "        #--- start next time from here\n",
    "        i = i + 1\n",
    "        \n",
    "list(count_up_to(10))\n",
    "#count_up_to(10)"
   ]
  },
  {
   "cell_type": "code",
   "execution_count": 5,
   "id": "eea9ac03",
   "metadata": {},
   "outputs": [
    {
     "name": "stdout",
     "output_type": "stream",
     "text": [
      "providing  1\n",
      "I just got a  1\n",
      "providing  2\n",
      "I just got a  2\n",
      "providing  3\n",
      "I just got a  3\n",
      "providing  4\n",
      "I just got a  4\n",
      "providing  5\n",
      "I just got a  5\n"
     ]
    }
   ],
   "source": [
    "from time import sleep\n",
    "for num in count_up_to(5):\n",
    "    print(\"I just got a \", num)\n",
    "    sleep(1)"
   ]
  },
  {
   "cell_type": "code",
   "execution_count": 9,
   "id": "f4c2c5c6",
   "metadata": {},
   "outputs": [
    {
     "data": {
      "text/plain": [
       "[0, 2, 4, 6, 8, 10, 12, 14, 16, 18, 20]"
      ]
     },
     "execution_count": 9,
     "metadata": {},
     "output_type": "execute_result"
    }
   ],
   "source": [
    "def even_numbers():\n",
    "    n = 0\n",
    "    while True:\n",
    "        yield n\n",
    "        n = n + 2\n",
    "\n",
    "evens = even_numbers()\n",
    "# for n in range(0, 101):\n",
    "#     print(next(evens))\n",
    "[ next(evens) for i in range(0, 11) ]\n",
    "\n"
   ]
  }
 ],
 "metadata": {
  "kernelspec": {
   "display_name": "Python 3",
   "language": "python",
   "name": "python3"
  },
  "language_info": {
   "codemirror_mode": {
    "name": "ipython",
    "version": 3
   },
   "file_extension": ".py",
   "mimetype": "text/x-python",
   "name": "python",
   "nbconvert_exporter": "python",
   "pygments_lexer": "ipython3",
   "version": "3.12.1"
  }
 },
 "nbformat": 4,
 "nbformat_minor": 5
}
