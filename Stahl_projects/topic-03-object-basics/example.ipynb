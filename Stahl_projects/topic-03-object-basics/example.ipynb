{
 "cells": [
  {
   "cell_type": "code",
   "execution_count": null,
   "id": "c183d420",
   "metadata": {},
   "outputs": [
    {
     "name": "stdout",
     "output_type": "stream",
     "text": [
      "Toyota Carolla 2005\n",
      "Car Info \n",
      "\tYear: 2005\n",
      "\tBrand: Toyota\n",
      "\tModel: Carolla\n",
      "False\n",
      "Toyota\n",
      "Changed car:\n",
      "Car Info \n",
      "\tYear: 2005\n",
      "\tBrand: Ford\n",
      "\tModel: Carolla\n"
     ]
    }
   ],
   "source": [
    "class Car:\n",
    "\n",
    "    # Step 1\"Initial class skeleton with constructor\n",
    "        ## Using a double underscore in front of a self attribute makes it become unmutable\n",
    "    def __init__(self, brand, model, year):\n",
    "        #self.__brand = brand\n",
    "        self.brand = brand\n",
    "        self.model = model\n",
    "        self.year = year\n",
    "\n",
    "    # Step 2: Add more methods for unique functionality\n",
    "    def describe(self) -> str:\n",
    "        return f\"Car Info \\n\\tYear: {self.year}\\n\\tBrand: {self.brand}\\n\\tModel: {self.model}\"\n",
    "    \n",
    "    def isa(self, manufacturer):\n",
    "        return self.brand == manufacturer\n",
    "    \n",
    "    # Step 3: Add get() and set() to safely retrieve and alter attribute values\n",
    "        ## Can add conditional statements to set() to protect values from unauthorized changes\n",
    "    def get_brand(self):\n",
    "        return self.brand\n",
    "\n",
    "    def set_brand(self, new_brand):\n",
    "        self.brand = new_brand\n",
    "    \n",
    "\n",
    "\n",
    "\n",
    "\n",
    "# Test Step 1\n",
    "my_car = Car(\"Toyota\", \"Carolla\", 2005)\n",
    "print(my_car.brand, my_car.model, my_car.year)\n",
    "\n",
    "# Test Step 2\n",
    "print(my_car.describe())\n",
    "print(my_car.isa(\"Ford\"))\n",
    "# my_car.__brand = \"Ford\"\n",
    "# print(my_car.describe())\n",
    "\n",
    "# Test Step 3\n",
    "print(my_car.get_brand())\n",
    "my_car.set_brand(\"Ford\")\n",
    "print(\"Changed car:\\n\" + my_car.describe())"
   ]
  },
  {
   "cell_type": "code",
   "execution_count": null,
   "id": "10cdbcab",
   "metadata": {},
   "outputs": [],
   "source": [
    "# Class example with conditional statements in methods\n",
    "class BankAccount:\n",
    "    def __init__(self, balance):\n",
    "        self.__balance = balance\n",
    "\n",
    "\n",
    "    def get_balance(self):\n",
    "        return self.__balance\n",
    "    \n",
    "\n",
    "    def deposit(self, amount):\n",
    "        if amount > 0:\n",
    "            self.__balance += amount\n",
    "\n",
    "\n",
    "    def withdraw(self, amount):\n",
    "        if amount > 0 and amount <= self.__balance:\n",
    "            self.__balance -= amount"
   ]
  }
 ],
 "metadata": {
  "kernelspec": {
   "display_name": "Python 3",
   "language": "python",
   "name": "python3"
  },
  "language_info": {
   "codemirror_mode": {
    "name": "ipython",
    "version": 3
   },
   "file_extension": ".py",
   "mimetype": "text/x-python",
   "name": "python",
   "nbconvert_exporter": "python",
   "pygments_lexer": "ipython3",
   "version": "3.12.1"
  }
 },
 "nbformat": 4,
 "nbformat_minor": 5
}
