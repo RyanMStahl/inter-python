{
 "cells": [
  {
   "cell_type": "code",
   "execution_count": null,
   "id": "3c43c24f",
   "metadata": {},
   "outputs": [
    {
     "name": "stdout",
     "output_type": "stream",
     "text": [
      "Non-existent index accessed\n",
      "-3\n"
     ]
    }
   ],
   "source": [
    "divisor = 0\n",
    "val = 34\n",
    "list = [1, 3, 7]\n",
    "index = 5\n",
    "\n",
    "# # Defensive coding:\n",
    "# if divisor != 0:\n",
    "#     remainder = val / divisor\n",
    "# else:\n",
    "#     remainder = -1\n",
    "\n",
    "# Error handling:\n",
    "try:\n",
    "    remainder = val + list[index] / divisor\n",
    "except ZeroDivisionError:\n",
    "    print(\"Cannot divide by zero\")\n",
    "    remainder = -2\n",
    "except IndexError:\n",
    "    print(\"Non-existent index accessed\")\n",
    "    remainder = -3\n",
    "finally:\n",
    "    print(remainder)"
   ]
  },
  {
   "cell_type": "code",
   "execution_count": 19,
   "id": "9e8b03c2",
   "metadata": {},
   "outputs": [
    {
     "name": "stdout",
     "output_type": "stream",
     "text": [
      "Cannot divide by zero\n",
      "20.5\n"
     ]
    }
   ],
   "source": [
    "divisor = 0\n",
    "val = 34\n",
    "list = [1, 3, 7]\n",
    "index = 5\n",
    "\n",
    "# # Defensive coding:\n",
    "# if divisor != 0:\n",
    "#     remainder = val / divisor\n",
    "# else:\n",
    "#     remainder = -1\n",
    "\n",
    "# Nested Error handling:\n",
    "\n",
    "try:\n",
    "    remainder = (val + list[index]) / divisor\n",
    "except IndexError:\n",
    "    try:\n",
    "        index = len(list) - 1\n",
    "\n",
    "        remainder = (val + list[index]) / divisor\n",
    "    except ZeroDivisionError:\n",
    "        print(\"Cannot divide by zero\")\n",
    "        \n",
    "    finally:\n",
    "        divisor += 2\n",
    "\n",
    "finally:\n",
    "    remainder = (val + list[index]) / divisor\n",
    "    print(remainder)"
   ]
  },
  {
   "cell_type": "code",
   "execution_count": 22,
   "id": "7b25ebe3",
   "metadata": {},
   "outputs": [
    {
     "name": "stdout",
     "output_type": "stream",
     "text": [
      "Oh well\n",
      "Closing file\n"
     ]
    }
   ],
   "source": [
    "try:\n",
    "    f = open(\"temp.txt\", \"w\")\n",
    "    x = 2\n",
    "    x = x / 0\n",
    "except:\n",
    "    print(\"Oh well\")\n",
    "finally:\n",
    "    print(\"Closing file\")\n",
    "    f.close()"
   ]
  }
 ],
 "metadata": {
  "kernelspec": {
   "display_name": "Python 3",
   "language": "python",
   "name": "python3"
  },
  "language_info": {
   "codemirror_mode": {
    "name": "ipython",
    "version": 3
   },
   "file_extension": ".py",
   "mimetype": "text/x-python",
   "name": "python",
   "nbconvert_exporter": "python",
   "pygments_lexer": "ipython3",
   "version": "3.12.1"
  }
 },
 "nbformat": 4,
 "nbformat_minor": 5
}
