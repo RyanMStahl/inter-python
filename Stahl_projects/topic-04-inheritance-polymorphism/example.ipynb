{
 "cells": [
  {
   "cell_type": "code",
   "execution_count": 1,
   "id": "fc1085ec",
   "metadata": {},
   "outputs": [],
   "source": [
    "things = [0.3, False, \"Hello\", [1, 2, 3], {\"a\": 4}]"
   ]
  },
  {
   "cell_type": "code",
   "execution_count": 11,
   "id": "96abfc39",
   "metadata": {},
   "outputs": [
    {
     "name": "stdout",
     "output_type": "stream",
     "text": [
      "Hello world!\n",
      "Error: Parent cannot say bye\n",
      "Howdy\n",
      "Goodbye!\n"
     ]
    }
   ],
   "source": [
    "# Example of class inheritance\n",
    "class Parent:\n",
    "    def say_hi(self):\n",
    "        print(\"Hello world!\")\n",
    "\n",
    "class Child(Parent):\n",
    "    def say_hi(self):\n",
    "        print(\"Howdy\")\n",
    "\n",
    "    def say_bye(self):\n",
    "        print(\"Goodbye!\")\n",
    "\n",
    "# p = Parent()\n",
    "# p.say_hi()\n",
    "# c = Child()\n",
    "# c.say_hi()\n",
    "# c.say_bye()\n",
    "\n",
    "people = [Parent(), Child()]\n",
    "\n",
    "# Can use conditions to specify behavior for certain things\n",
    "    ## Can also use exception handling\n",
    "for person in people:\n",
    "    person.say_hi()\n",
    "\n",
    "    # if type(person) == Child:\n",
    "    #     person.say_bye()\n",
    "    # else:\n",
    "    #     print(\"See ya\")\n",
    "\n",
    "    try:\n",
    "        person.say_bye()\n",
    "    except AttributeError:\n",
    "        print(\"Error: Parent cannot say bye\")"
   ]
  }
 ],
 "metadata": {
  "kernelspec": {
   "display_name": "Python 3",
   "language": "python",
   "name": "python3"
  },
  "language_info": {
   "codemirror_mode": {
    "name": "ipython",
    "version": 3
   },
   "file_extension": ".py",
   "mimetype": "text/x-python",
   "name": "python",
   "nbconvert_exporter": "python",
   "pygments_lexer": "ipython3",
   "version": "3.12.1"
  }
 },
 "nbformat": 4,
 "nbformat_minor": 5
}
