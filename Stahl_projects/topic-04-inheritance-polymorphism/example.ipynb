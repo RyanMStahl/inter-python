{
 "cells": [
  {
   "cell_type": "code",
   "execution_count": 1,
   "id": "fc1085ec",
   "metadata": {},
   "outputs": [],
   "source": [
    "things = [0.3, False, \"Hello\", [1, 2, 3], {\"a\": 4}]"
   ]
  },
  {
   "cell_type": "code",
   "execution_count": 2,
   "id": "96abfc39",
   "metadata": {},
   "outputs": [
    {
     "name": "stdout",
     "output_type": "stream",
     "text": [
      "Hello world!\n",
      "Error: Parent cannot say bye\n",
      "Howdy\n",
      "Goodbye!\n"
     ]
    }
   ],
   "source": [
    "# Example of class inheritance\n",
    "class Parent:\n",
    "    def say_hi(self):\n",
    "        print(\"Hello world!\")\n",
    "\n",
    "class Child(Parent):\n",
    "    def say_hi(self):\n",
    "        print(\"Howdy\")\n",
    "\n",
    "    def say_bye(self):\n",
    "        print(\"Goodbye!\")\n",
    "\n",
    "# p = Parent()\n",
    "# p.say_hi()\n",
    "# c = Child()\n",
    "# c.say_hi()\n",
    "# c.say_bye()\n",
    "\n",
    "people = [Parent(), Child()]\n",
    "\n",
    "# Can use conditions to specify behavior for certain things\n",
    "    ## Can also use exception handling\n",
    "for person in people:\n",
    "    person.say_hi()\n",
    "\n",
    "    # if type(person) == Child:\n",
    "    #     person.say_bye()\n",
    "    # else:\n",
    "    #     print(\"See ya\")\n",
    "\n",
    "    try:\n",
    "        person.say_bye()\n",
    "    except AttributeError:\n",
    "        print(\"Error: Parent cannot say bye\")"
   ]
  },
  {
   "cell_type": "code",
   "execution_count": 3,
   "id": "53f4f437",
   "metadata": {},
   "outputs": [],
   "source": [
    "# Practice Exercises for lesson 4 -------------------------\n",
    "class Person:\n",
    "    def __init__(self, name, age):\n",
    "        self.name = name\n",
    "        self.age = age\n",
    "\n",
    "class Employee(Person):\n",
    "    def __init__(self, name, age, job_title, city, street):\n",
    "        super().__init__(name, age)\n",
    "        self.job_title = job_title\n",
    "        self.address = Address(city, street)\n",
    "\n",
    "\n",
    "class Address():\n",
    "    def __init__(self, city, street):\n",
    "        self.city = city\n",
    "        self.street = street\n"
   ]
  },
  {
   "cell_type": "code",
   "execution_count": 7,
   "id": "ed74e453",
   "metadata": {},
   "outputs": [
    {
     "name": "stdout",
     "output_type": "stream",
     "text": [
      "Area: Area for most shapes is calculated by multiplying the shape's base (4) by the shape's height (5)\n",
      "Area: 113.04\n",
      "Area: 56\n"
     ]
    }
   ],
   "source": [
    "class Shape():\n",
    "    def __init__(self, base, height):\n",
    "        self.base = base\n",
    "        self.height = height\n",
    "\n",
    "    def calculate_area(self):\n",
    "        return f\"Area for most shapes is calculated by multiplying the shape's base ({self.base}) by the shape's height ({self.height})\"\n",
    "    \n",
    "\n",
    "class Circle(Shape):\n",
    "    def __init__(self, radius):\n",
    "        self.radius = radius\n",
    "\n",
    "    def calculate_area(self):\n",
    "        return (3.14 * (self.radius**2))\n",
    "    \n",
    "\n",
    "class Rectangle(Shape):\n",
    "    def __init__(self, base, height):\n",
    "        super().__init__(base, height)\n",
    "\n",
    "\n",
    "    def calculate_area(self):\n",
    "        return self.base * self.height\n",
    "    \n",
    "\n",
    "shapes = [Shape(4, 5), Circle(6), Rectangle(7, 8)]\n",
    "for shape in shapes:\n",
    "    print(f\"Area: {shape.calculate_area()}\")\n"
   ]
  }
 ],
 "metadata": {
  "kernelspec": {
   "display_name": "Python 3",
   "language": "python",
   "name": "python3"
  },
  "language_info": {
   "codemirror_mode": {
    "name": "ipython",
    "version": 3
   },
   "file_extension": ".py",
   "mimetype": "text/x-python",
   "name": "python",
   "nbconvert_exporter": "python",
   "pygments_lexer": "ipython3",
   "version": "3.12.1"
  }
 },
 "nbformat": 4,
 "nbformat_minor": 5
}
